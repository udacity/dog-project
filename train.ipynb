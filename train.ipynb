{
 "cells": [
  {
   "cell_type": "code",
   "execution_count": 1,
   "metadata": {},
   "outputs": [
    {
     "name": "stdout",
     "output_type": "stream",
     "text": [
      "Requirement already satisfied: absl-py==0.15.0 in c:\\users\\user\\anaconda3\\envs\\tensorflow\\lib\\site-packages (from -r requirements.txt (line 1)) (0.15.0)\n",
      "Requirement already satisfied: argon2-cffi==21.3.0 in c:\\users\\user\\anaconda3\\envs\\tensorflow\\lib\\site-packages (from -r requirements.txt (line 2)) (21.3.0)\n",
      "Requirement already satisfied: argon2-cffi-bindings==21.2.0 in c:\\users\\user\\anaconda3\\envs\\tensorflow\\lib\\site-packages (from -r requirements.txt (line 3)) (21.2.0)\n",
      "Requirement already satisfied: astunparse==1.6.3 in c:\\users\\user\\anaconda3\\envs\\tensorflow\\lib\\site-packages (from -r requirements.txt (line 4)) (1.6.3)\n",
      "Requirement already satisfied: attrs==21.4.0 in c:\\users\\user\\anaconda3\\envs\\tensorflow\\lib\\site-packages (from -r requirements.txt (line 5)) (21.4.0)\n",
      "Requirement already satisfied: backcall==0.2.0 in c:\\users\\user\\anaconda3\\envs\\tensorflow\\lib\\site-packages (from -r requirements.txt (line 6)) (0.2.0)\n",
      "Requirement already satisfied: bleach==4.1.0 in c:\\users\\user\\anaconda3\\envs\\tensorflow\\lib\\site-packages (from -r requirements.txt (line 7)) (4.1.0)\n",
      "Requirement already satisfied: cachetools==4.2.4 in c:\\users\\user\\anaconda3\\envs\\tensorflow\\lib\\site-packages (from -r requirements.txt (line 8)) (4.2.4)\n",
      "Requirement already satisfied: certifi==2020.6.20 in c:\\users\\user\\anaconda3\\envs\\tensorflow\\lib\\site-packages (from -r requirements.txt (line 9)) (2020.6.20)\n",
      "Requirement already satisfied: cffi==1.15.0 in c:\\users\\user\\anaconda3\\envs\\tensorflow\\lib\\site-packages (from -r requirements.txt (line 10)) (1.15.0)\n",
      "Requirement already satisfied: charset-normalizer==2.0.10 in c:\\users\\user\\anaconda3\\envs\\tensorflow\\lib\\site-packages (from -r requirements.txt (line 11)) (2.0.10)\n",
      "Requirement already satisfied: colorama==0.4.4 in c:\\users\\user\\anaconda3\\envs\\tensorflow\\lib\\site-packages (from -r requirements.txt (line 12)) (0.4.4)\n",
      "Requirement already satisfied: cycler==0.11.0 in c:\\users\\user\\anaconda3\\envs\\tensorflow\\lib\\site-packages (from -r requirements.txt (line 13)) (0.11.0)\n",
      "Requirement already satisfied: debugpy==1.5.1 in c:\\users\\user\\anaconda3\\envs\\tensorflow\\lib\\site-packages (from -r requirements.txt (line 14)) (1.5.1)\n",
      "Requirement already satisfied: decorator==5.1.0 in c:\\users\\user\\anaconda3\\envs\\tensorflow\\lib\\site-packages (from -r requirements.txt (line 15)) (5.1.0)\n",
      "Requirement already satisfied: defusedxml==0.7.1 in c:\\users\\user\\anaconda3\\envs\\tensorflow\\lib\\site-packages (from -r requirements.txt (line 16)) (0.7.1)\n",
      "Requirement already satisfied: entrypoints==0.3 in c:\\users\\user\\anaconda3\\envs\\tensorflow\\lib\\site-packages (from -r requirements.txt (line 17)) (0.3)\n",
      "Requirement already satisfied: flatbuffers==1.12 in c:\\users\\user\\anaconda3\\envs\\tensorflow\\lib\\site-packages (from -r requirements.txt (line 18)) (1.12)\n",
      "Requirement already satisfied: fonttools==4.28.5 in c:\\users\\user\\anaconda3\\envs\\tensorflow\\lib\\site-packages (from -r requirements.txt (line 19)) (4.28.5)\n",
      "Requirement already satisfied: gast==0.3.3 in c:\\users\\user\\anaconda3\\envs\\tensorflow\\lib\\site-packages (from -r requirements.txt (line 20)) (0.3.3)\n",
      "Requirement already satisfied: google-auth==2.3.3 in c:\\users\\user\\anaconda3\\envs\\tensorflow\\lib\\site-packages (from -r requirements.txt (line 21)) (2.3.3)\n",
      "Requirement already satisfied: google-auth-oauthlib==0.4.6 in c:\\users\\user\\anaconda3\\envs\\tensorflow\\lib\\site-packages (from -r requirements.txt (line 22)) (0.4.6)\n",
      "Requirement already satisfied: google-pasta==0.2.0 in c:\\users\\user\\anaconda3\\envs\\tensorflow\\lib\\site-packages (from -r requirements.txt (line 23)) (0.2.0)\n",
      "Requirement already satisfied: grpcio==1.32.0 in c:\\users\\user\\anaconda3\\envs\\tensorflow\\lib\\site-packages (from -r requirements.txt (line 24)) (1.32.0)\n",
      "Requirement already satisfied: h5py==2.10.0 in c:\\users\\user\\anaconda3\\envs\\tensorflow\\lib\\site-packages (from -r requirements.txt (line 25)) (2.10.0)\n",
      "Requirement already satisfied: idna==3.3 in c:\\users\\user\\anaconda3\\envs\\tensorflow\\lib\\site-packages (from -r requirements.txt (line 26)) (3.3)\n",
      "Requirement already satisfied: importlib-metadata==4.10.0 in c:\\users\\user\\anaconda3\\envs\\tensorflow\\lib\\site-packages (from -r requirements.txt (line 27)) (4.10.0)\n",
      "Requirement already satisfied: importlib-resources==5.4.0 in c:\\users\\user\\anaconda3\\envs\\tensorflow\\lib\\site-packages (from -r requirements.txt (line 28)) (5.4.0)\n",
      "Requirement already satisfied: ipykernel==6.6.1 in c:\\users\\user\\anaconda3\\envs\\tensorflow\\lib\\site-packages (from -r requirements.txt (line 29)) (6.6.1)\n",
      "Requirement already satisfied: ipython==7.31.0 in c:\\users\\user\\anaconda3\\envs\\tensorflow\\lib\\site-packages (from -r requirements.txt (line 30)) (7.31.0)\n",
      "Requirement already satisfied: ipython-genutils==0.2.0 in c:\\users\\user\\anaconda3\\envs\\tensorflow\\lib\\site-packages (from -r requirements.txt (line 31)) (0.2.0)\n",
      "Requirement already satisfied: jedi==0.18.1 in c:\\users\\user\\anaconda3\\envs\\tensorflow\\lib\\site-packages (from -r requirements.txt (line 32)) (0.18.1)\n",
      "Requirement already satisfied: Jinja2==3.0.3 in c:\\users\\user\\anaconda3\\envs\\tensorflow\\lib\\site-packages (from -r requirements.txt (line 33)) (3.0.3)\n",
      "Requirement already satisfied: joblib==1.1.0 in c:\\users\\user\\anaconda3\\envs\\tensorflow\\lib\\site-packages (from -r requirements.txt (line 34)) (1.1.0)\n",
      "Requirement already satisfied: jsonschema==4.3.3 in c:\\users\\user\\anaconda3\\envs\\tensorflow\\lib\\site-packages (from -r requirements.txt (line 35)) (4.3.3)\n",
      "Requirement already satisfied: jupyter-client==7.1.0 in c:\\users\\user\\anaconda3\\envs\\tensorflow\\lib\\site-packages (from -r requirements.txt (line 36)) (7.1.0)\n",
      "Requirement already satisfied: jupyter-core==4.9.1 in c:\\users\\user\\anaconda3\\envs\\tensorflow\\lib\\site-packages (from -r requirements.txt (line 37)) (4.9.1)\n",
      "Requirement already satisfied: jupyterlab-pygments==0.1.2 in c:\\users\\user\\anaconda3\\envs\\tensorflow\\lib\\site-packages (from -r requirements.txt (line 38)) (0.1.2)\n",
      "Requirement already satisfied: Keras-Preprocessing==1.1.2 in c:\\users\\user\\anaconda3\\envs\\tensorflow\\lib\\site-packages (from -r requirements.txt (line 39)) (1.1.2)\n",
      "Requirement already satisfied: kiwisolver==1.3.2 in c:\\users\\user\\anaconda3\\envs\\tensorflow\\lib\\site-packages (from -r requirements.txt (line 40)) (1.3.2)\n",
      "Requirement already satisfied: Markdown==3.3.6 in c:\\users\\user\\anaconda3\\envs\\tensorflow\\lib\\site-packages (from -r requirements.txt (line 41)) (3.3.6)\n",
      "Requirement already satisfied: MarkupSafe==2.0.1 in c:\\users\\user\\anaconda3\\envs\\tensorflow\\lib\\site-packages (from -r requirements.txt (line 42)) (2.0.1)\n",
      "Requirement already satisfied: matplotlib==3.5.1 in c:\\users\\user\\anaconda3\\envs\\tensorflow\\lib\\site-packages (from -r requirements.txt (line 43)) (3.5.1)\n",
      "Requirement already satisfied: matplotlib-inline==0.1.3 in c:\\users\\user\\anaconda3\\envs\\tensorflow\\lib\\site-packages (from -r requirements.txt (line 44)) (0.1.3)\n",
      "Requirement already satisfied: mistune==0.8.4 in c:\\users\\user\\anaconda3\\envs\\tensorflow\\lib\\site-packages (from -r requirements.txt (line 45)) (0.8.4)\n",
      "Requirement already satisfied: nbclient==0.5.9 in c:\\users\\user\\anaconda3\\envs\\tensorflow\\lib\\site-packages (from -r requirements.txt (line 46)) (0.5.9)\n",
      "Requirement already satisfied: nbconvert==6.4.0 in c:\\users\\user\\anaconda3\\envs\\tensorflow\\lib\\site-packages (from -r requirements.txt (line 47)) (6.4.0)\n",
      "Requirement already satisfied: nbformat==5.1.3 in c:\\users\\user\\anaconda3\\envs\\tensorflow\\lib\\site-packages (from -r requirements.txt (line 48)) (5.1.3)\n",
      "Requirement already satisfied: nest-asyncio==1.5.4 in c:\\users\\user\\anaconda3\\envs\\tensorflow\\lib\\site-packages (from -r requirements.txt (line 49)) (1.5.4)\n",
      "Requirement already satisfied: notebook==6.4.6 in c:\\users\\user\\anaconda3\\envs\\tensorflow\\lib\\site-packages (from -r requirements.txt (line 50)) (6.4.6)\n",
      "Requirement already satisfied: numpy==1.19.5 in c:\\users\\user\\anaconda3\\envs\\tensorflow\\lib\\site-packages (from -r requirements.txt (line 51)) (1.19.5)\n",
      "Requirement already satisfied: oauthlib==3.1.1 in c:\\users\\user\\anaconda3\\envs\\tensorflow\\lib\\site-packages (from -r requirements.txt (line 52)) (3.1.1)\n",
      "Requirement already satisfied: opt-einsum==3.3.0 in c:\\users\\user\\anaconda3\\envs\\tensorflow\\lib\\site-packages (from -r requirements.txt (line 53)) (3.3.0)\n",
      "Requirement already satisfied: packaging==21.3 in c:\\users\\user\\anaconda3\\envs\\tensorflow\\lib\\site-packages (from -r requirements.txt (line 54)) (21.3)\n",
      "Requirement already satisfied: pandas==1.3.5 in c:\\users\\user\\anaconda3\\envs\\tensorflow\\lib\\site-packages (from -r requirements.txt (line 55)) (1.3.5)\n",
      "Requirement already satisfied: pandocfilters==1.5.0 in c:\\users\\user\\anaconda3\\envs\\tensorflow\\lib\\site-packages (from -r requirements.txt (line 56)) (1.5.0)\n",
      "Requirement already satisfied: parso==0.8.3 in c:\\users\\user\\anaconda3\\envs\\tensorflow\\lib\\site-packages (from -r requirements.txt (line 57)) (0.8.3)\n",
      "Requirement already satisfied: pickleshare==0.7.5 in c:\\users\\user\\anaconda3\\envs\\tensorflow\\lib\\site-packages (from -r requirements.txt (line 58)) (0.7.5)\n",
      "Requirement already satisfied: Pillow==9.0.0 in c:\\users\\user\\anaconda3\\envs\\tensorflow\\lib\\site-packages (from -r requirements.txt (line 59)) (9.0.0)\n",
      "Requirement already satisfied: prometheus-client==0.12.0 in c:\\users\\user\\anaconda3\\envs\\tensorflow\\lib\\site-packages (from -r requirements.txt (line 60)) (0.12.0)\n",
      "Requirement already satisfied: prompt-toolkit==3.0.24 in c:\\users\\user\\anaconda3\\envs\\tensorflow\\lib\\site-packages (from -r requirements.txt (line 61)) (3.0.24)\n",
      "Requirement already satisfied: protobuf==3.19.1 in c:\\users\\user\\anaconda3\\envs\\tensorflow\\lib\\site-packages (from -r requirements.txt (line 62)) (3.19.1)"
     ]
    },
    {
     "name": "stderr",
     "output_type": "stream",
     "text": [
      "WARNING: Ignoring invalid distribution -illow (c:\\users\\user\\anaconda3\\envs\\tensorflow\\lib\\site-packages)\n",
      "WARNING: Ignoring invalid distribution -illow (c:\\users\\user\\anaconda3\\envs\\tensorflow\\lib\\site-packages)\n",
      "WARNING: Ignoring invalid distribution -illow (c:\\users\\user\\anaconda3\\envs\\tensorflow\\lib\\site-packages)\n",
      "WARNING: Ignoring invalid distribution -illow (c:\\users\\user\\anaconda3\\envs\\tensorflow\\lib\\site-packages)\n",
      "WARNING: Ignoring invalid distribution -illow (c:\\users\\user\\anaconda3\\envs\\tensorflow\\lib\\site-packages)\n",
      "WARNING: Ignoring invalid distribution -illow (c:\\users\\user\\anaconda3\\envs\\tensorflow\\lib\\site-packages)\n"
     ]
    },
    {
     "name": "stdout",
     "output_type": "stream",
     "text": [
      "\n",
      "Requirement already satisfied: pyasn1==0.4.8 in c:\\users\\user\\anaconda3\\envs\\tensorflow\\lib\\site-packages (from -r requirements.txt (line 63)) (0.4.8)\n",
      "Requirement already satisfied: pyasn1-modules==0.2.8 in c:\\users\\user\\anaconda3\\envs\\tensorflow\\lib\\site-packages (from -r requirements.txt (line 64)) (0.2.8)\n",
      "Requirement already satisfied: pycparser==2.21 in c:\\users\\user\\anaconda3\\envs\\tensorflow\\lib\\site-packages (from -r requirements.txt (line 65)) (2.21)\n",
      "Requirement already satisfied: Pygments==2.11.2 in c:\\users\\user\\anaconda3\\envs\\tensorflow\\lib\\site-packages (from -r requirements.txt (line 66)) (2.11.2)\n",
      "Requirement already satisfied: pyparsing==3.0.6 in c:\\users\\user\\anaconda3\\envs\\tensorflow\\lib\\site-packages (from -r requirements.txt (line 67)) (3.0.6)\n",
      "Requirement already satisfied: pyrsistent==0.18.0 in c:\\users\\user\\anaconda3\\envs\\tensorflow\\lib\\site-packages (from -r requirements.txt (line 68)) (0.18.0)\n",
      "Requirement already satisfied: python-dateutil==2.8.2 in c:\\users\\user\\anaconda3\\envs\\tensorflow\\lib\\site-packages (from -r requirements.txt (line 69)) (2.8.2)\n",
      "Requirement already satisfied: pytz==2021.3 in c:\\users\\user\\anaconda3\\envs\\tensorflow\\lib\\site-packages (from -r requirements.txt (line 70)) (2021.3)\n",
      "Requirement already satisfied: pywin32==303 in c:\\users\\user\\anaconda3\\envs\\tensorflow\\lib\\site-packages (from -r requirements.txt (line 71)) (303)\n",
      "Requirement already satisfied: pywinpty==1.1.6 in c:\\users\\user\\anaconda3\\envs\\tensorflow\\lib\\site-packages (from -r requirements.txt (line 72)) (1.1.6)\n",
      "Requirement already satisfied: pyzmq==22.3.0 in c:\\users\\user\\anaconda3\\envs\\tensorflow\\lib\\site-packages (from -r requirements.txt (line 73)) (22.3.0)\n",
      "Requirement already satisfied: requests==2.27.1 in c:\\users\\user\\anaconda3\\envs\\tensorflow\\lib\\site-packages (from -r requirements.txt (line 74)) (2.27.1)\n",
      "Requirement already satisfied: requests-oauthlib==1.3.0 in c:\\users\\user\\anaconda3\\envs\\tensorflow\\lib\\site-packages (from -r requirements.txt (line 75)) (1.3.0)\n",
      "Requirement already satisfied: rsa==4.8 in c:\\users\\user\\anaconda3\\envs\\tensorflow\\lib\\site-packages (from -r requirements.txt (line 76)) (4.8)\n",
      "Requirement already satisfied: scikit-learn==1.0.2 in c:\\users\\user\\anaconda3\\envs\\tensorflow\\lib\\site-packages (from -r requirements.txt (line 77)) (1.0.2)\n",
      "Requirement already satisfied: scipy==1.7.3 in c:\\users\\user\\anaconda3\\envs\\tensorflow\\lib\\site-packages (from -r requirements.txt (line 78)) (1.7.3)\n",
      "Requirement already satisfied: Send2Trash==1.8.0 in c:\\users\\user\\anaconda3\\envs\\tensorflow\\lib\\site-packages (from -r requirements.txt (line 79)) (1.8.0)\n",
      "Requirement already satisfied: six==1.15.0 in c:\\users\\user\\anaconda3\\envs\\tensorflow\\lib\\site-packages (from -r requirements.txt (line 80)) (1.15.0)\n",
      "Requirement already satisfied: sklearn==0.0 in c:\\users\\user\\anaconda3\\envs\\tensorflow\\lib\\site-packages (from -r requirements.txt (line 81)) (0.0)\n",
      "Requirement already satisfied: tensorboard==2.7.0 in c:\\users\\user\\anaconda3\\envs\\tensorflow\\lib\\site-packages (from -r requirements.txt (line 82)) (2.7.0)\n",
      "Requirement already satisfied: tensorboard-data-server==0.6.1 in c:\\users\\user\\anaconda3\\envs\\tensorflow\\lib\\site-packages (from -r requirements.txt (line 83)) (0.6.1)\n",
      "Requirement already satisfied: tensorboard-plugin-wit==1.8.1 in c:\\users\\user\\anaconda3\\envs\\tensorflow\\lib\\site-packages (from -r requirements.txt (line 84)) (1.8.1)\n",
      "Requirement already satisfied: tensorflow-estimator==2.4.0 in c:\\users\\user\\anaconda3\\envs\\tensorflow\\lib\\site-packages (from -r requirements.txt (line 85)) (2.4.0)\n",
      "Requirement already satisfied: tensorflow-gpu==2.4.0 in c:\\users\\user\\anaconda3\\envs\\tensorflow\\lib\\site-packages (from -r requirements.txt (line 86)) (2.4.0)\n",
      "Requirement already satisfied: termcolor==1.1.0 in c:\\users\\user\\anaconda3\\envs\\tensorflow\\lib\\site-packages (from -r requirements.txt (line 87)) (1.1.0)\n",
      "Requirement already satisfied: terminado==0.12.1 in c:\\users\\user\\anaconda3\\envs\\tensorflow\\lib\\site-packages (from -r requirements.txt (line 88)) (0.12.1)\n",
      "Requirement already satisfied: testpath==0.5.0 in c:\\users\\user\\anaconda3\\envs\\tensorflow\\lib\\site-packages (from -r requirements.txt (line 89)) (0.5.0)\n",
      "Requirement already satisfied: threadpoolctl==3.0.0 in c:\\users\\user\\anaconda3\\envs\\tensorflow\\lib\\site-packages (from -r requirements.txt (line 90)) (3.0.0)\n",
      "Requirement already satisfied: tornado==6.1 in c:\\users\\user\\anaconda3\\envs\\tensorflow\\lib\\site-packages (from -r requirements.txt (line 91)) (6.1)\n",
      "Requirement already satisfied: tqdm==4.62.3 in c:\\users\\user\\anaconda3\\envs\\tensorflow\\lib\\site-packages (from -r requirements.txt (line 92)) (4.62.3)\n",
      "Requirement already satisfied: traitlets==5.1.1 in c:\\users\\user\\anaconda3\\envs\\tensorflow\\lib\\site-packages (from -r requirements.txt (line 93)) (5.1.1)\n",
      "Requirement already satisfied: typing-extensions==3.7.4.3 in c:\\users\\user\\anaconda3\\envs\\tensorflow\\lib\\site-packages (from -r requirements.txt (line 94)) (3.7.4.3)\n",
      "Requirement already satisfied: urllib3==1.26.7 in c:\\users\\user\\anaconda3\\envs\\tensorflow\\lib\\site-packages (from -r requirements.txt (line 95)) (1.26.7)\n",
      "Requirement already satisfied: wcwidth==0.2.5 in c:\\users\\user\\anaconda3\\envs\\tensorflow\\lib\\site-packages (from -r requirements.txt (line 96)) (0.2.5)\n",
      "Requirement already satisfied: webencodings==0.5.1 in c:\\users\\user\\anaconda3\\envs\\tensorflow\\lib\\site-packages (from -r requirements.txt (line 97)) (0.5.1)\n",
      "Requirement already satisfied: Werkzeug==2.0.2 in c:\\users\\user\\anaconda3\\envs\\tensorflow\\lib\\site-packages (from -r requirements.txt (line 98)) (2.0.2)\n",
      "Requirement already satisfied: wincertstore==0.2 in c:\\users\\user\\anaconda3\\envs\\tensorflow\\lib\\site-packages (from -r requirements.txt (line 99)) (0.2)\n",
      "Requirement already satisfied: wrapt==1.12.1 in c:\\users\\user\\anaconda3\\envs\\tensorflow\\lib\\site-packages (from -r requirements.txt (line 100)) (1.12.1)\n",
      "Requirement already satisfied: zipp==3.7.0 in c:\\users\\user\\anaconda3\\envs\\tensorflow\\lib\\site-packages (from -r requirements.txt (line 101)) (3.7.0)\n",
      "Requirement already satisfied: wheel<1.0,>=0.23.0 in c:\\users\\user\\anaconda3\\envs\\tensorflow\\lib\\site-packages (from astunparse==1.6.3->-r requirements.txt (line 4)) (0.37.0)\n",
      "Requirement already satisfied: setuptools>=40.3.0 in c:\\users\\user\\anaconda3\\envs\\tensorflow\\lib\\site-packages (from google-auth==2.3.3->-r requirements.txt (line 21)) (58.0.4)\n"
     ]
    }
   ],
   "source": [
    "!pip install -r requirements.txt"
   ]
  },
  {
   "cell_type": "code",
   "execution_count": 2,
   "metadata": {},
   "outputs": [
    {
     "ename": "ImportError",
     "evalue": "cannot import name 'LayerNormalization' from 'tensorflow.python.keras.layers.normalization' (C:\\Users\\User\\anaconda3\\envs\\tensorflow\\lib\\site-packages\\tensorflow\\python\\keras\\layers\\normalization\\__init__.py)",
     "output_type": "error",
     "traceback": [
      "\u001b[1;31m---------------------------------------------------------------------------\u001b[0m",
      "\u001b[1;31mImportError\u001b[0m                               Traceback (most recent call last)",
      "\u001b[1;32m~\\AppData\\Local\\Temp/ipykernel_25584/112537649.py\u001b[0m in \u001b[0;36m<module>\u001b[1;34m\u001b[0m\n\u001b[0;32m      1\u001b[0m \u001b[1;31m## Import libraries and enable GPU in tensorflow\u001b[0m\u001b[1;33m\u001b[0m\u001b[1;33m\u001b[0m\u001b[1;33m\u001b[0m\u001b[0m\n\u001b[0;32m      2\u001b[0m \u001b[1;33m\u001b[0m\u001b[0m\n\u001b[1;32m----> 3\u001b[1;33m \u001b[1;32mimport\u001b[0m \u001b[0mtensorflow\u001b[0m \u001b[1;32mas\u001b[0m \u001b[0mtf\u001b[0m\u001b[1;33m\u001b[0m\u001b[1;33m\u001b[0m\u001b[0m\n\u001b[0m\u001b[0;32m      4\u001b[0m \u001b[1;32mtry\u001b[0m\u001b[1;33m:\u001b[0m\u001b[1;33m\u001b[0m\u001b[1;33m\u001b[0m\u001b[0m\n\u001b[0;32m      5\u001b[0m     \u001b[0mphysical_devices\u001b[0m \u001b[1;33m=\u001b[0m \u001b[0mtf\u001b[0m\u001b[1;33m.\u001b[0m\u001b[0mconfig\u001b[0m\u001b[1;33m.\u001b[0m\u001b[0mlist_physical_devices\u001b[0m\u001b[1;33m(\u001b[0m\u001b[1;34m'GPU'\u001b[0m\u001b[1;33m)\u001b[0m\u001b[1;33m\u001b[0m\u001b[1;33m\u001b[0m\u001b[0m\n",
      "\u001b[1;32m~\\anaconda3\\envs\\tensorflow\\lib\\site-packages\\tensorflow\\__init__.py\u001b[0m in \u001b[0;36m<module>\u001b[1;34m\u001b[0m\n\u001b[0;32m     39\u001b[0m \u001b[1;32mimport\u001b[0m \u001b[0msys\u001b[0m \u001b[1;32mas\u001b[0m \u001b[0m_sys\u001b[0m\u001b[1;33m\u001b[0m\u001b[1;33m\u001b[0m\u001b[0m\n\u001b[0;32m     40\u001b[0m \u001b[1;33m\u001b[0m\u001b[0m\n\u001b[1;32m---> 41\u001b[1;33m \u001b[1;32mfrom\u001b[0m \u001b[0mtensorflow\u001b[0m\u001b[1;33m.\u001b[0m\u001b[0mpython\u001b[0m\u001b[1;33m.\u001b[0m\u001b[0mtools\u001b[0m \u001b[1;32mimport\u001b[0m \u001b[0mmodule_util\u001b[0m \u001b[1;32mas\u001b[0m \u001b[0m_module_util\u001b[0m\u001b[1;33m\u001b[0m\u001b[1;33m\u001b[0m\u001b[0m\n\u001b[0m\u001b[0;32m     42\u001b[0m \u001b[1;32mfrom\u001b[0m \u001b[0mtensorflow\u001b[0m\u001b[1;33m.\u001b[0m\u001b[0mpython\u001b[0m\u001b[1;33m.\u001b[0m\u001b[0mutil\u001b[0m\u001b[1;33m.\u001b[0m\u001b[0mlazy_loader\u001b[0m \u001b[1;32mimport\u001b[0m \u001b[0mLazyLoader\u001b[0m \u001b[1;32mas\u001b[0m \u001b[0m_LazyLoader\u001b[0m\u001b[1;33m\u001b[0m\u001b[1;33m\u001b[0m\u001b[0m\n\u001b[0;32m     43\u001b[0m \u001b[1;33m\u001b[0m\u001b[0m\n",
      "\u001b[1;32m~\\anaconda3\\envs\\tensorflow\\lib\\site-packages\\tensorflow\\python\\__init__.py\u001b[0m in \u001b[0;36m<module>\u001b[1;34m\u001b[0m\n\u001b[0;32m     46\u001b[0m \u001b[1;32mfrom\u001b[0m \u001b[0mtensorflow\u001b[0m\u001b[1;33m.\u001b[0m\u001b[0mpython\u001b[0m \u001b[1;32mimport\u001b[0m \u001b[0mdata\u001b[0m\u001b[1;33m\u001b[0m\u001b[1;33m\u001b[0m\u001b[0m\n\u001b[0;32m     47\u001b[0m \u001b[1;32mfrom\u001b[0m \u001b[0mtensorflow\u001b[0m\u001b[1;33m.\u001b[0m\u001b[0mpython\u001b[0m \u001b[1;32mimport\u001b[0m \u001b[0mdistribute\u001b[0m\u001b[1;33m\u001b[0m\u001b[1;33m\u001b[0m\u001b[0m\n\u001b[1;32m---> 48\u001b[1;33m \u001b[1;32mfrom\u001b[0m \u001b[0mtensorflow\u001b[0m\u001b[1;33m.\u001b[0m\u001b[0mpython\u001b[0m \u001b[1;32mimport\u001b[0m \u001b[0mkeras\u001b[0m\u001b[1;33m\u001b[0m\u001b[1;33m\u001b[0m\u001b[0m\n\u001b[0m\u001b[0;32m     49\u001b[0m \u001b[1;32mfrom\u001b[0m \u001b[0mtensorflow\u001b[0m\u001b[1;33m.\u001b[0m\u001b[0mpython\u001b[0m\u001b[1;33m.\u001b[0m\u001b[0mfeature_column\u001b[0m \u001b[1;32mimport\u001b[0m \u001b[0mfeature_column_lib\u001b[0m \u001b[1;32mas\u001b[0m \u001b[0mfeature_column\u001b[0m\u001b[1;33m\u001b[0m\u001b[1;33m\u001b[0m\u001b[0m\n\u001b[0;32m     50\u001b[0m \u001b[1;32mfrom\u001b[0m \u001b[0mtensorflow\u001b[0m\u001b[1;33m.\u001b[0m\u001b[0mpython\u001b[0m\u001b[1;33m.\u001b[0m\u001b[0mlayers\u001b[0m \u001b[1;32mimport\u001b[0m \u001b[0mlayers\u001b[0m\u001b[1;33m\u001b[0m\u001b[1;33m\u001b[0m\u001b[0m\n",
      "\u001b[1;32m~\\anaconda3\\envs\\tensorflow\\lib\\site-packages\\tensorflow\\python\\keras\\__init__.py\u001b[0m in \u001b[0;36m<module>\u001b[1;34m\u001b[0m\n\u001b[0;32m     25\u001b[0m \u001b[1;33m\u001b[0m\u001b[0m\n\u001b[0;32m     26\u001b[0m \u001b[1;31m# See b/110718070#comment18 for more details about this import.\u001b[0m\u001b[1;33m\u001b[0m\u001b[1;33m\u001b[0m\u001b[1;33m\u001b[0m\u001b[0m\n\u001b[1;32m---> 27\u001b[1;33m \u001b[1;32mfrom\u001b[0m \u001b[0mtensorflow\u001b[0m\u001b[1;33m.\u001b[0m\u001b[0mpython\u001b[0m\u001b[1;33m.\u001b[0m\u001b[0mkeras\u001b[0m \u001b[1;32mimport\u001b[0m \u001b[0mmodels\u001b[0m\u001b[1;33m\u001b[0m\u001b[1;33m\u001b[0m\u001b[0m\n\u001b[0m\u001b[0;32m     28\u001b[0m \u001b[1;33m\u001b[0m\u001b[0m\n\u001b[0;32m     29\u001b[0m \u001b[1;32mfrom\u001b[0m \u001b[0mtensorflow\u001b[0m\u001b[1;33m.\u001b[0m\u001b[0mpython\u001b[0m\u001b[1;33m.\u001b[0m\u001b[0mkeras\u001b[0m\u001b[1;33m.\u001b[0m\u001b[0mengine\u001b[0m\u001b[1;33m.\u001b[0m\u001b[0minput_layer\u001b[0m \u001b[1;32mimport\u001b[0m \u001b[0mInput\u001b[0m\u001b[1;33m\u001b[0m\u001b[1;33m\u001b[0m\u001b[0m\n",
      "\u001b[1;32m~\\anaconda3\\envs\\tensorflow\\lib\\site-packages\\tensorflow\\python\\keras\\models.py\u001b[0m in \u001b[0;36m<module>\u001b[1;34m\u001b[0m\n\u001b[0;32m     25\u001b[0m \u001b[1;32mfrom\u001b[0m \u001b[0mtensorflow\u001b[0m\u001b[1;33m.\u001b[0m\u001b[0mpython\u001b[0m\u001b[1;33m.\u001b[0m\u001b[0mkeras\u001b[0m \u001b[1;32mimport\u001b[0m \u001b[0moptimizer_v1\u001b[0m\u001b[1;33m\u001b[0m\u001b[1;33m\u001b[0m\u001b[0m\n\u001b[0;32m     26\u001b[0m \u001b[1;32mfrom\u001b[0m \u001b[0mtensorflow\u001b[0m\u001b[1;33m.\u001b[0m\u001b[0mpython\u001b[0m\u001b[1;33m.\u001b[0m\u001b[0mkeras\u001b[0m\u001b[1;33m.\u001b[0m\u001b[0mengine\u001b[0m \u001b[1;32mimport\u001b[0m \u001b[0mfunctional\u001b[0m\u001b[1;33m\u001b[0m\u001b[1;33m\u001b[0m\u001b[0m\n\u001b[1;32m---> 27\u001b[1;33m \u001b[1;32mfrom\u001b[0m \u001b[0mtensorflow\u001b[0m\u001b[1;33m.\u001b[0m\u001b[0mpython\u001b[0m\u001b[1;33m.\u001b[0m\u001b[0mkeras\u001b[0m\u001b[1;33m.\u001b[0m\u001b[0mengine\u001b[0m \u001b[1;32mimport\u001b[0m \u001b[0msequential\u001b[0m\u001b[1;33m\u001b[0m\u001b[1;33m\u001b[0m\u001b[0m\n\u001b[0m\u001b[0;32m     28\u001b[0m \u001b[1;32mfrom\u001b[0m \u001b[0mtensorflow\u001b[0m\u001b[1;33m.\u001b[0m\u001b[0mpython\u001b[0m\u001b[1;33m.\u001b[0m\u001b[0mkeras\u001b[0m\u001b[1;33m.\u001b[0m\u001b[0mengine\u001b[0m \u001b[1;32mimport\u001b[0m \u001b[0mtraining\u001b[0m\u001b[1;33m\u001b[0m\u001b[1;33m\u001b[0m\u001b[0m\n\u001b[0;32m     29\u001b[0m \u001b[1;32mfrom\u001b[0m \u001b[0mtensorflow\u001b[0m\u001b[1;33m.\u001b[0m\u001b[0mpython\u001b[0m\u001b[1;33m.\u001b[0m\u001b[0mkeras\u001b[0m\u001b[1;33m.\u001b[0m\u001b[0mengine\u001b[0m \u001b[1;32mimport\u001b[0m \u001b[0mtraining_v1\u001b[0m\u001b[1;33m\u001b[0m\u001b[1;33m\u001b[0m\u001b[0m\n",
      "\u001b[1;32m~\\anaconda3\\envs\\tensorflow\\lib\\site-packages\\tensorflow\\python\\keras\\engine\\sequential.py\u001b[0m in \u001b[0;36m<module>\u001b[1;34m\u001b[0m\n\u001b[0;32m     26\u001b[0m \u001b[1;32mfrom\u001b[0m \u001b[0mtensorflow\u001b[0m\u001b[1;33m.\u001b[0m\u001b[0mpython\u001b[0m\u001b[1;33m.\u001b[0m\u001b[0mframework\u001b[0m \u001b[1;32mimport\u001b[0m \u001b[0mops\u001b[0m\u001b[1;33m\u001b[0m\u001b[1;33m\u001b[0m\u001b[0m\n\u001b[0;32m     27\u001b[0m \u001b[1;32mfrom\u001b[0m \u001b[0mtensorflow\u001b[0m\u001b[1;33m.\u001b[0m\u001b[0mpython\u001b[0m\u001b[1;33m.\u001b[0m\u001b[0mframework\u001b[0m \u001b[1;32mimport\u001b[0m \u001b[0mtensor_util\u001b[0m\u001b[1;33m\u001b[0m\u001b[1;33m\u001b[0m\u001b[0m\n\u001b[1;32m---> 28\u001b[1;33m \u001b[1;32mfrom\u001b[0m \u001b[0mtensorflow\u001b[0m\u001b[1;33m.\u001b[0m\u001b[0mpython\u001b[0m\u001b[1;33m.\u001b[0m\u001b[0mkeras\u001b[0m \u001b[1;32mimport\u001b[0m \u001b[0mlayers\u001b[0m \u001b[1;32mas\u001b[0m \u001b[0mlayer_module\u001b[0m\u001b[1;33m\u001b[0m\u001b[1;33m\u001b[0m\u001b[0m\n\u001b[0m\u001b[0;32m     29\u001b[0m \u001b[1;32mfrom\u001b[0m \u001b[0mtensorflow\u001b[0m\u001b[1;33m.\u001b[0m\u001b[0mpython\u001b[0m\u001b[1;33m.\u001b[0m\u001b[0mkeras\u001b[0m\u001b[1;33m.\u001b[0m\u001b[0mengine\u001b[0m \u001b[1;32mimport\u001b[0m \u001b[0mbase_layer\u001b[0m\u001b[1;33m\u001b[0m\u001b[1;33m\u001b[0m\u001b[0m\n\u001b[0;32m     30\u001b[0m \u001b[1;32mfrom\u001b[0m \u001b[0mtensorflow\u001b[0m\u001b[1;33m.\u001b[0m\u001b[0mpython\u001b[0m\u001b[1;33m.\u001b[0m\u001b[0mkeras\u001b[0m\u001b[1;33m.\u001b[0m\u001b[0mengine\u001b[0m \u001b[1;32mimport\u001b[0m \u001b[0mfunctional\u001b[0m\u001b[1;33m\u001b[0m\u001b[1;33m\u001b[0m\u001b[0m\n",
      "\u001b[1;32m~\\anaconda3\\envs\\tensorflow\\lib\\site-packages\\tensorflow\\python\\keras\\layers\\__init__.py\u001b[0m in \u001b[0;36m<module>\u001b[1;34m\u001b[0m\n\u001b[0;32m    175\u001b[0m \u001b[1;33m\u001b[0m\u001b[0m\n\u001b[0;32m    176\u001b[0m \u001b[1;31m# Normalization layers.\u001b[0m\u001b[1;33m\u001b[0m\u001b[1;33m\u001b[0m\u001b[1;33m\u001b[0m\u001b[0m\n\u001b[1;32m--> 177\u001b[1;33m \u001b[1;32mfrom\u001b[0m \u001b[0mtensorflow\u001b[0m\u001b[1;33m.\u001b[0m\u001b[0mpython\u001b[0m\u001b[1;33m.\u001b[0m\u001b[0mkeras\u001b[0m\u001b[1;33m.\u001b[0m\u001b[0mlayers\u001b[0m\u001b[1;33m.\u001b[0m\u001b[0mnormalization\u001b[0m \u001b[1;32mimport\u001b[0m \u001b[0mLayerNormalization\u001b[0m\u001b[1;33m\u001b[0m\u001b[1;33m\u001b[0m\u001b[0m\n\u001b[0m\u001b[0;32m    178\u001b[0m \u001b[1;32mfrom\u001b[0m \u001b[0mtensorflow\u001b[0m\u001b[1;33m.\u001b[0m\u001b[0mpython\u001b[0m\u001b[1;33m.\u001b[0m\u001b[0mkeras\u001b[0m\u001b[1;33m.\u001b[0m\u001b[0mlayers\u001b[0m\u001b[1;33m.\u001b[0m\u001b[0mnormalization_v2\u001b[0m \u001b[1;32mimport\u001b[0m \u001b[0mSyncBatchNormalization\u001b[0m\u001b[1;33m\u001b[0m\u001b[1;33m\u001b[0m\u001b[0m\n\u001b[0;32m    179\u001b[0m \u001b[1;33m\u001b[0m\u001b[0m\n",
      "\u001b[1;31mImportError\u001b[0m: cannot import name 'LayerNormalization' from 'tensorflow.python.keras.layers.normalization' (C:\\Users\\User\\anaconda3\\envs\\tensorflow\\lib\\site-packages\\tensorflow\\python\\keras\\layers\\normalization\\__init__.py)"
     ]
    }
   ],
   "source": [
    "## Import libraries and enable GPU in tensorflow\n",
    "\n",
    "import tensorflow as tf\n",
    "try:\n",
    "    physical_devices = tf.config.list_physical_devices('GPU')\n",
    "    tf.config.experimental.set_memory_growth(physical_devices[0], True)\n",
    "except:\n",
    "    pass\n",
    "\n",
    "print(\"Num GPUs Available: \", len(tf.config.list_physical_devices('GPU')))"
   ]
  },
  {
   "cell_type": "code",
   "execution_count": null,
   "metadata": {
    "pycharm": {
     "name": "#%%\n"
    }
   },
   "outputs": [],
   "source": [
    "# Import libraries\n",
    "\n",
    "import pathlib\n",
    "import matplotlib.pyplot as plt\n",
    "import pandas as pd\n",
    "import numpy as np\n",
    "import tensorflow as tf\n",
    "from tensorflow.keras import layers\n",
    "\n",
    "# Compile and Train\n",
    "from tensorflow.keras.optimizers import RMSprop,SGD,Adam\n",
    "from tensorflow.keras.callbacks import ModelCheckpoint, EarlyStopping, ReduceLROnPlateau\n",
    "\n",
    "from PIL import ImageFile\n",
    "ImageFile.LOAD_TRUNCATED_IMAGES = True"
   ]
  },
  {
   "cell_type": "code",
   "execution_count": null,
   "metadata": {
    "pycharm": {
     "name": "#%%\n"
    }
   },
   "outputs": [],
   "source": [
    "# Define the dataset path\n",
    "\n",
    "data_dir = \"./dogImages/train\"\n",
    "print(data_dir)"
   ]
  },
  {
   "cell_type": "code",
   "execution_count": null,
   "metadata": {
    "pycharm": {
     "name": "#%%\n"
    }
   },
   "outputs": [],
   "source": [
    "# Degine some parameter\n",
    "img_height = 224\n",
    "img_width = 224\n",
    "batch_size = 128 ## Images will pass into the network per epochs\n",
    "\n",
    "# Load images into the train dataloader\n",
    "train_ds = tf.keras.preprocessing.image_dataset_from_directory(\n",
    "  r\"C:\\Users\\User\\Documents\\GitHub\\dog-project\\dogImages\\dogImages\\train\",\n",
    "  labels='inferred',\n",
    "  label_mode='categorical',\n",
    "  # validation_split=0.2, #use 80% as training dataset\n",
    "  # subset=\"training\",\n",
    "  seed=123,\n",
    "  image_size=(img_height, img_width),\n",
    "  batch_size=batch_size\n",
    ")\n",
    "\n",
    "class_names = train_ds.class_names"
   ]
  },
  {
   "cell_type": "code",
   "execution_count": null,
   "metadata": {
    "pycharm": {
     "name": "#%%\n"
    }
   },
   "outputs": [],
   "source": [
    "# Degine some parameter\n",
    "img_height = 224\n",
    "img_width = 224\n",
    "batch_size = 1 ## Images will pass into the network per epochs\n",
    "\n",
    "# Load images into the validation dataloader\n",
    "val_ds = tf.keras.preprocessing.image_dataset_from_directory(\n",
    "  r\"C:\\Users\\User\\Documents\\GitHub\\dog-project\\dogImages\\dogImages\\valid\",\n",
    "  labels='inferred',\n",
    "  label_mode='categorical',\n",
    "  # validation_split=0.2, #use 20% as training dataset\n",
    "  # subset=\"validation\",\n",
    "  seed=123,\n",
    "  image_size=(img_height, img_width),\n",
    "  batch_size=batch_size\n",
    ")\n",
    "\n",
    "class_names = val_ds.class_names"
   ]
  },
  {
   "cell_type": "code",
   "execution_count": null,
   "metadata": {
    "pycharm": {
     "name": "#%%\n"
    }
   },
   "outputs": [],
   "source": [
    "# Show images to make sure images loaded are correct\n",
    "\n",
    "import matplotlib.pyplot as plt\n",
    "\n",
    "plt.figure(figsize=(10, 10))\n",
    "for images, labels in train_ds.take(1):\n",
    "    for i in range(9):\n",
    "        ax = plt.subplot(3, 3, i + 1)\n",
    "        plt.imshow(images[i].numpy().astype(\"uint8\"))\n",
    "#         plt.title(class_names[labels[i]])\n",
    "        plt.axis(\"off\")"
   ]
  },
  {
   "cell_type": "code",
   "execution_count": null,
   "metadata": {
    "pycharm": {
     "name": "#%%\n"
    }
   },
   "outputs": [],
   "source": [
    "# Check the dataloader parameter\n",
    "\n",
    "for image_batch, labels_batch in train_ds:\n",
    "    print(image_batch.shape)\n",
    "    print(labels_batch.shape)\n",
    "    break"
   ]
  },
  {
   "cell_type": "code",
   "execution_count": null,
   "metadata": {
    "pycharm": {
     "name": "#%%\n"
    }
   },
   "outputs": [],
   "source": [
    "# Normalize the images\n",
    "## normal images => 0-255\n",
    "## normalized images => 0-1\n",
    "\n",
    "## example:\n",
    "## 127 in normal image === 0.5 in normalized image\n",
    "\n",
    "## we normalize images to reduce the computation cost.\n",
    "\n",
    "normalization_layer = tf.keras.layers.experimental.preprocessing.Rescaling(1./255)\n",
    "normalized_ds = train_ds.map(lambda x, y: (normalization_layer(x), y))\n",
    "image_batch, labels_batch = next(iter(normalized_ds))\n",
    "first_image = image_batch[0]\n",
    "print(np.min(first_image), np.max(first_image))"
   ]
  },
  {
   "cell_type": "code",
   "execution_count": null,
   "metadata": {
    "pycharm": {
     "name": "#%%\n"
    }
   },
   "outputs": [],
   "source": [
    "AUTOTUNE = tf.data.AUTOTUNE\n",
    "train_ds = train_ds.cache().prefetch(buffer_size=AUTOTUNE)\n",
    "val_ds = val_ds.cache().prefetch(buffer_size=AUTOTUNE)"
   ]
  },
  {
   "cell_type": "code",
   "execution_count": null,
   "metadata": {
    "pycharm": {
     "name": "#%%\n"
    }
   },
   "outputs": [],
   "source": [
    "# create the base model\n",
    "import ssl\n",
    "ssl._create_default_https_context = ssl._create_unverified_context\n",
    "\n",
    "base_model = tf.keras.applications.VGG16(weights='imagenet', include_top=False)\n",
    "base_model"
   ]
  },
  {
   "cell_type": "code",
   "execution_count": null,
   "metadata": {
    "pycharm": {
     "name": "#%%\n"
    }
   },
   "outputs": [],
   "source": [
    "# freeze layers -> we train again from scratch\n",
    "for layer in base_model.layers[:143]:\n",
    "    layer.trainable = False\n",
    "\n",
    "# let's visualize layer names and layer indices to see how many layers\n",
    "# we should freeze:\n",
    "for i, layer in enumerate(base_model.layers):\n",
    "       print(i, layer.name, \"-\", layer.trainable)"
   ]
  },
  {
   "cell_type": "code",
   "execution_count": null,
   "metadata": {
    "pycharm": {
     "name": "#%%\n"
    }
   },
   "outputs": [],
   "source": [
    "import tensorflow.keras as K\n",
    "\n",
    "# this is the model we will train\n",
    "model = K.models.Sequential()\n",
    "model.add(K.layers.Lambda(lambda image: tf.image.resize(image, (224, 224))))\n",
    "model.add(base_model)\n",
    "model.add(K.layers.Flatten())\n",
    "model.add(K.layers.BatchNormalization())\n",
    "model.add(K.layers.Dense(256, activation='relu'))\n",
    "model.add(K.layers.Dropout(0.5))\n",
    "model.add(K.layers.BatchNormalization())\n",
    "model.add(K.layers.Dense(128, activation='relu'))\n",
    "model.add(K.layers.Dropout(0.5))\n",
    "model.add(K.layers.BatchNormalization())\n",
    "model.add(K.layers.Dense(64, activation='relu'))\n",
    "model.add(K.layers.Dropout(0.5))\n",
    "model.add(K.layers.BatchNormalization())\n",
    "model.add(K.layers.Dense(133, activation='softmax')) # 3 is number of output"
   ]
  },
  {
   "cell_type": "code",
   "execution_count": null,
   "metadata": {
    "pycharm": {
     "name": "#%%\n"
    }
   },
   "outputs": [],
   "source": [
    "# we use SGD with a low learning rate\n",
    "from tensorflow.keras.optimizers import SGD\n",
    "model.compile(optimizer='rmsprop', loss='categorical_crossentropy', metrics=['accuracy']) # Define optimizer/LR"
   ]
  },
  {
   "cell_type": "code",
   "execution_count": null,
   "metadata": {
    "pycharm": {
     "name": "#%%\n"
    }
   },
   "outputs": [],
   "source": [
    "EPOCHS = 100 # number of cycle\n",
    "\n",
    "checkpoint = ModelCheckpoint('dog_vgg.h5',\n",
    "                             monitor='val_loss',\n",
    "                             mode='min',\n",
    "                             save_best_only=True,\n",
    "                             verbose=1)\n",
    "\n",
    "callbacks = [checkpoint]"
   ]
  },
  {
   "cell_type": "code",
   "execution_count": null,
   "metadata": {
    "pycharm": {
     "name": "#%%\n"
    }
   },
   "outputs": [],
   "source": [
    "# start training\n",
    "history = model.fit(train_ds, validation_data=val_ds,\n",
    "          epochs=EPOCHS, callbacks=callbacks)"
   ]
  },
  {
   "cell_type": "code",
   "execution_count": null,
   "metadata": {
    "pycharm": {
     "name": "#%%\n"
    }
   },
   "outputs": [],
   "source": [
    "# visualize the result (acc, val_acc, loss, val_loss)\n",
    "\n",
    "acc = history.history['accuracy']\n",
    "val_acc = history.history['val_accuracy']\n",
    "\n",
    "loss = history.history['loss']\n",
    "val_loss = history.history['val_loss']\n",
    "\n",
    "epochs_range = range(EPOCHS)\n",
    "\n",
    "plt.figure(figsize=(8, 8))\n",
    "plt.subplot(1, 2, 1)\n",
    "plt.plot(epochs_range, acc, label='Training Accuracy')\n",
    "plt.plot(epochs_range, val_acc, label='Validation Accuracy')\n",
    "plt.legend(loc='lower right')\n",
    "plt.title('Training and Validation Accuracy')\n",
    "\n",
    "plt.subplot(1, 2, 2)\n",
    "plt.plot(epochs_range, loss, label='Training Loss')\n",
    "plt.plot(epochs_range, val_loss, label='Validation Loss')\n",
    "plt.legend(loc='upper right')\n",
    "plt.title('Training and Validation Loss')\n",
    "plt.show()"
   ]
  },
  {
   "cell_type": "code",
   "execution_count": null,
   "metadata": {
    "pycharm": {
     "name": "#%%\n"
    }
   },
   "outputs": [],
   "source": [
    "import tensorflow as tf\n",
    "\n",
    "model = tf.keras.models.load_model('dog_vgg.h5')\n",
    "converter = tf.lite.TFLiteConverter.from_keras_model(model)\n",
    "tflite_model = converter.convert()\n",
    "open(\"dog_vgg.tflite\", \"wb\").write(tflite_model)"
   ]
  },
  {
   "cell_type": "code",
   "execution_count": null,
   "metadata": {
    "pycharm": {
     "name": "#%%\n"
    }
   },
   "outputs": [],
   "source": [
    "interpreter = tf.lite.Interpreter(model_path = \"dog_vgg.tflite\")\n",
    "input_details = interpreter.get_input_details()\n",
    "output_details = interpreter.get_output_details()\n",
    "print(\"Input Shape:\", input_details[0]['shape'])\n",
    "print(\"Input Type:\", input_details[0]['dtype'])\n",
    "print(\"Output Shape:\", output_details[0]['shape'])\n",
    "print(\"Output Type:\", output_details[0]['dtype'])"
   ]
  }
 ],
 "metadata": {
  "kernelspec": {
   "display_name": "Python 3 (ipykernel)",
   "language": "python",
   "name": "python3"
  },
  "language_info": {
   "codemirror_mode": {
    "name": "ipython",
    "version": 3
   },
   "file_extension": ".py",
   "mimetype": "text/x-python",
   "name": "python",
   "nbconvert_exporter": "python",
   "pygments_lexer": "ipython3",
   "version": "3.8.12"
  }
 },
 "nbformat": 4,
 "nbformat_minor": 1
}
